{
 "cells": [
  {
   "cell_type": "markdown",
   "id": "64ed7712-4229-422f-b056-441696523833",
   "metadata": {},
   "source": [
    "## An Analysis of crime in NYC\n",
    "\n"
   ]
  },
  {
   "cell_type": "code",
   "execution_count": 1,
   "id": "3930b045-b26a-4ea9-8a4c-7c2f20df5dc0",
   "metadata": {
    "tags": []
   },
   "outputs": [
    {
     "name": "stdout",
     "output_type": "stream",
     "text": [
      "Requirement already satisfied: geopandas in /Users/abbascauser/anaconda3/lib/python3.11/site-packages (0.14.0)\n",
      "Requirement already satisfied: fiona>=1.8.21 in /Users/abbascauser/anaconda3/lib/python3.11/site-packages (from geopandas) (1.9.5)\n",
      "Requirement already satisfied: packaging in /Users/abbascauser/anaconda3/lib/python3.11/site-packages (from geopandas) (23.0)\n",
      "Requirement already satisfied: pandas>=1.4.0 in /Users/abbascauser/anaconda3/lib/python3.11/site-packages (from geopandas) (1.5.3)\n",
      "Requirement already satisfied: pyproj>=3.3.0 in /Users/abbascauser/anaconda3/lib/python3.11/site-packages (from geopandas) (3.6.1)\n",
      "Requirement already satisfied: shapely>=1.8.0 in /Users/abbascauser/anaconda3/lib/python3.11/site-packages (from geopandas) (2.0.2)\n",
      "Requirement already satisfied: attrs>=19.2.0 in /Users/abbascauser/anaconda3/lib/python3.11/site-packages (from fiona>=1.8.21->geopandas) (22.1.0)\n",
      "Requirement already satisfied: certifi in /Users/abbascauser/anaconda3/lib/python3.11/site-packages (from fiona>=1.8.21->geopandas) (2023.7.22)\n",
      "Requirement already satisfied: click~=8.0 in /Users/abbascauser/anaconda3/lib/python3.11/site-packages (from fiona>=1.8.21->geopandas) (8.0.4)\n",
      "Requirement already satisfied: click-plugins>=1.0 in /Users/abbascauser/anaconda3/lib/python3.11/site-packages (from fiona>=1.8.21->geopandas) (1.1.1)\n",
      "Requirement already satisfied: cligj>=0.5 in /Users/abbascauser/anaconda3/lib/python3.11/site-packages (from fiona>=1.8.21->geopandas) (0.7.2)\n",
      "Requirement already satisfied: six in /Users/abbascauser/anaconda3/lib/python3.11/site-packages (from fiona>=1.8.21->geopandas) (1.16.0)\n",
      "Requirement already satisfied: setuptools in /Users/abbascauser/anaconda3/lib/python3.11/site-packages (from fiona>=1.8.21->geopandas) (68.0.0)\n",
      "Requirement already satisfied: python-dateutil>=2.8.1 in /Users/abbascauser/anaconda3/lib/python3.11/site-packages (from pandas>=1.4.0->geopandas) (2.8.2)\n",
      "Requirement already satisfied: pytz>=2020.1 in /Users/abbascauser/anaconda3/lib/python3.11/site-packages (from pandas>=1.4.0->geopandas) (2022.7)\n",
      "Requirement already satisfied: numpy>=1.21.0 in /Users/abbascauser/anaconda3/lib/python3.11/site-packages (from pandas>=1.4.0->geopandas) (1.24.3)\n",
      "Note: you may need to restart the kernel to use updated packages.\n"
     ]
    }
   ],
   "source": [
    "import numpy as np\n",
    "import pandas as pd\n",
    "import matplotlib.pyplot as plt\n",
    "import seaborn as sns\n",
    "import statsmodels.api as sm\n",
    "from sklearn.model_selection import train_test_split\n",
    "from sklearn.linear_model import LogisticRegression\n",
    "from sklearn.preprocessing import StandardScaler\n",
    "from sklearn.neighbors import KNeighborsClassifier\n",
    "from sklearn.tree import DecisionTreeClassifier\n",
    "from sklearn.tree import plot_tree\n",
    "%pip install geopandas\n",
    "import geopandas as gpd\n",
    "from shapely.geometry import Point\n",
    "\n",
    "#from shapely.geometry import Point\n"
   ]
  },
  {
   "cell_type": "code",
   "execution_count": 2,
   "id": "0fb9319e-60d4-486f-8cc8-fdde66a1705d",
   "metadata": {
    "tags": []
   },
   "outputs": [],
   "source": [
    "arrests = pd.read_csv('/Users/abbascauser/Documents/Data Science/Capstone/NYPD_Arrest_Data__Year_to_Date__20231017.csv')\n",
    "cd = gpd.read_file('/Users/abbascauser/Documents/Data Science/Capstone/nycd_23b/nycd.shp') #read in the shapefile with the Community District BORO Codes\n",
    "demo_age = pd.read_csv('/Users/abbascauser/Documents/Data Science/Capstone/cd_demo_age_gender.csv')\n",
    "demo_econ = pd.read_csv('/Users/abbascauser/Documents/Data Science/Capstone/cd_demo_race_economics.csv')\n",
    "demo_snap = pd.read_csv('/Users/abbascauser/Documents/Data Science/Capstone/2017-18__-_2021-22_Demographic_Snapshot_20231017.csv')\n",
    "financial = pd.read_csv('/Users/abbascauser/Documents/Data Science/Capstone/Neighborhood_Financial_Health_Digital_Mapping_and_Data_Tool_20231017.csv')"
   ]
  },
  {
   "cell_type": "code",
   "execution_count": 3,
   "id": "44f43a49-09d5-4f97-839e-861c9e7c00a2",
   "metadata": {
    "tags": []
   },
   "outputs": [
    {
     "data": {
      "text/plain": [
       "<Projected CRS: EPSG:2263>\n",
       "Name: NAD83 / New York Long Island (ftUS)\n",
       "Axis Info [cartesian]:\n",
       "- X[east]: Easting (US survey foot)\n",
       "- Y[north]: Northing (US survey foot)\n",
       "Area of Use:\n",
       "- name: United States (USA) - New York - counties of Bronx; Kings; Nassau; New York; Queens; Richmond; Suffolk.\n",
       "- bounds: (-74.26, 40.47, -71.8, 41.3)\n",
       "Coordinate Operation:\n",
       "- name: SPCS83 New York Long Island zone (US Survey feet)\n",
       "- method: Lambert Conic Conformal (2SP)\n",
       "Datum: North American Datum 1983\n",
       "- Ellipsoid: GRS 1980\n",
       "- Prime Meridian: Greenwich"
      ]
     },
     "execution_count": 3,
     "metadata": {},
     "output_type": "execute_result"
    }
   ],
   "source": [
    "cd.crs"
   ]
  },
  {
   "cell_type": "code",
   "execution_count": 4,
   "id": "7ba91573-efc3-4fef-a4ba-08e0c592862c",
   "metadata": {},
   "outputs": [
    {
     "data": {
      "text/html": [
       "<div>\n",
       "<style scoped>\n",
       "    .dataframe tbody tr th:only-of-type {\n",
       "        vertical-align: middle;\n",
       "    }\n",
       "\n",
       "    .dataframe tbody tr th {\n",
       "        vertical-align: top;\n",
       "    }\n",
       "\n",
       "    .dataframe thead th {\n",
       "        text-align: right;\n",
       "    }\n",
       "</style>\n",
       "<table border=\"1\" class=\"dataframe\">\n",
       "  <thead>\n",
       "    <tr style=\"text-align: right;\">\n",
       "      <th></th>\n",
       "      <th>ARREST_KEY</th>\n",
       "      <th>ARREST_DATE</th>\n",
       "      <th>PD_CD</th>\n",
       "      <th>PD_DESC</th>\n",
       "      <th>KY_CD</th>\n",
       "      <th>OFNS_DESC</th>\n",
       "      <th>LAW_CODE</th>\n",
       "      <th>LAW_CAT_CD</th>\n",
       "      <th>ARREST_BORO</th>\n",
       "      <th>ARREST_PRECINCT</th>\n",
       "      <th>JURISDICTION_CODE</th>\n",
       "      <th>AGE_GROUP</th>\n",
       "      <th>PERP_SEX</th>\n",
       "      <th>PERP_RACE</th>\n",
       "      <th>X_COORD_CD</th>\n",
       "      <th>Y_COORD_CD</th>\n",
       "      <th>Latitude</th>\n",
       "      <th>Longitude</th>\n",
       "      <th>New Georeferenced Column</th>\n",
       "    </tr>\n",
       "  </thead>\n",
       "  <tbody>\n",
       "    <tr>\n",
       "      <th>0</th>\n",
       "      <td>263238742</td>\n",
       "      <td>02/08/2023</td>\n",
       "      <td>380.0</td>\n",
       "      <td>ROBBERY,CAR JACKING</td>\n",
       "      <td>105.0</td>\n",
       "      <td>ROBBERY</td>\n",
       "      <td>PL 1601003</td>\n",
       "      <td>F</td>\n",
       "      <td>K</td>\n",
       "      <td>62</td>\n",
       "      <td>0</td>\n",
       "      <td>25-44</td>\n",
       "      <td>F</td>\n",
       "      <td>WHITE</td>\n",
       "      <td>989904</td>\n",
       "      <td>156928</td>\n",
       "      <td>40.597407</td>\n",
       "      <td>-73.979638</td>\n",
       "      <td>POINT (-73.979638 40.597407)</td>\n",
       "    </tr>\n",
       "    <tr>\n",
       "      <th>1</th>\n",
       "      <td>265590985</td>\n",
       "      <td>03/24/2023</td>\n",
       "      <td>155.0</td>\n",
       "      <td>RAPE 2</td>\n",
       "      <td>104.0</td>\n",
       "      <td>RAPE</td>\n",
       "      <td>PL 1303001</td>\n",
       "      <td>F</td>\n",
       "      <td>S</td>\n",
       "      <td>120</td>\n",
       "      <td>0</td>\n",
       "      <td>18-24</td>\n",
       "      <td>M</td>\n",
       "      <td>BLACK</td>\n",
       "      <td>962873</td>\n",
       "      <td>174172</td>\n",
       "      <td>40.644721</td>\n",
       "      <td>-74.077033</td>\n",
       "      <td>POINT (-74.0770327198983 40.6447209438691)</td>\n",
       "    </tr>\n",
       "    <tr>\n",
       "      <th>2</th>\n",
       "      <td>265798132</td>\n",
       "      <td>03/28/2023</td>\n",
       "      <td>157.0</td>\n",
       "      <td>RAPE 1</td>\n",
       "      <td>104.0</td>\n",
       "      <td>RAPE</td>\n",
       "      <td>PL 1303501</td>\n",
       "      <td>F</td>\n",
       "      <td>S</td>\n",
       "      <td>120</td>\n",
       "      <td>0</td>\n",
       "      <td>25-44</td>\n",
       "      <td>M</td>\n",
       "      <td>BLACK</td>\n",
       "      <td>962873</td>\n",
       "      <td>174172</td>\n",
       "      <td>40.644721</td>\n",
       "      <td>-74.077033</td>\n",
       "      <td>POINT (-74.0770327198983 40.6447209438691)</td>\n",
       "    </tr>\n",
       "    <tr>\n",
       "      <th>3</th>\n",
       "      <td>269233687</td>\n",
       "      <td>06/02/2023</td>\n",
       "      <td>157.0</td>\n",
       "      <td>RAPE 1</td>\n",
       "      <td>104.0</td>\n",
       "      <td>RAPE</td>\n",
       "      <td>PL 1303501</td>\n",
       "      <td>F</td>\n",
       "      <td>Q</td>\n",
       "      <td>110</td>\n",
       "      <td>0</td>\n",
       "      <td>25-44</td>\n",
       "      <td>M</td>\n",
       "      <td>WHITE HISPANIC</td>\n",
       "      <td>1019164</td>\n",
       "      <td>210169</td>\n",
       "      <td>40.743481</td>\n",
       "      <td>-73.874004</td>\n",
       "      <td>POINT (-73.8740035373971 40.7434812638841)</td>\n",
       "    </tr>\n",
       "    <tr>\n",
       "      <th>4</th>\n",
       "      <td>270519574</td>\n",
       "      <td>06/28/2023</td>\n",
       "      <td>157.0</td>\n",
       "      <td>RAPE 1</td>\n",
       "      <td>104.0</td>\n",
       "      <td>RAPE</td>\n",
       "      <td>PL 1303501</td>\n",
       "      <td>F</td>\n",
       "      <td>K</td>\n",
       "      <td>84</td>\n",
       "      <td>0</td>\n",
       "      <td>25-44</td>\n",
       "      <td>M</td>\n",
       "      <td>BLACK HISPANIC</td>\n",
       "      <td>988902</td>\n",
       "      <td>192641</td>\n",
       "      <td>40.695439</td>\n",
       "      <td>-73.983225</td>\n",
       "      <td>POINT (-73.9832253756043 40.6954388081238)</td>\n",
       "    </tr>\n",
       "  </tbody>\n",
       "</table>\n",
       "</div>"
      ],
      "text/plain": [
       "   ARREST_KEY ARREST_DATE  PD_CD              PD_DESC  KY_CD OFNS_DESC  \\\n",
       "0   263238742  02/08/2023  380.0  ROBBERY,CAR JACKING  105.0   ROBBERY   \n",
       "1   265590985  03/24/2023  155.0               RAPE 2  104.0      RAPE   \n",
       "2   265798132  03/28/2023  157.0               RAPE 1  104.0      RAPE   \n",
       "3   269233687  06/02/2023  157.0               RAPE 1  104.0      RAPE   \n",
       "4   270519574  06/28/2023  157.0               RAPE 1  104.0      RAPE   \n",
       "\n",
       "     LAW_CODE LAW_CAT_CD ARREST_BORO  ARREST_PRECINCT  JURISDICTION_CODE  \\\n",
       "0  PL 1601003          F           K               62                  0   \n",
       "1  PL 1303001          F           S              120                  0   \n",
       "2  PL 1303501          F           S              120                  0   \n",
       "3  PL 1303501          F           Q              110                  0   \n",
       "4  PL 1303501          F           K               84                  0   \n",
       "\n",
       "  AGE_GROUP PERP_SEX       PERP_RACE  X_COORD_CD  Y_COORD_CD   Latitude  \\\n",
       "0     25-44        F           WHITE      989904      156928  40.597407   \n",
       "1     18-24        M           BLACK      962873      174172  40.644721   \n",
       "2     25-44        M           BLACK      962873      174172  40.644721   \n",
       "3     25-44        M  WHITE HISPANIC     1019164      210169  40.743481   \n",
       "4     25-44        M  BLACK HISPANIC      988902      192641  40.695439   \n",
       "\n",
       "   Longitude                    New Georeferenced Column  \n",
       "0 -73.979638                POINT (-73.979638 40.597407)  \n",
       "1 -74.077033  POINT (-74.0770327198983 40.6447209438691)  \n",
       "2 -74.077033  POINT (-74.0770327198983 40.6447209438691)  \n",
       "3 -73.874004  POINT (-73.8740035373971 40.7434812638841)  \n",
       "4 -73.983225  POINT (-73.9832253756043 40.6954388081238)  "
      ]
     },
     "execution_count": 4,
     "metadata": {},
     "output_type": "execute_result"
    }
   ],
   "source": [
    "arrests.head()"
   ]
  },
  {
   "cell_type": "code",
   "execution_count": 5,
   "id": "93bae309-2c68-41f5-8cc3-86e82ecf7b84",
   "metadata": {},
   "outputs": [
    {
     "data": {
      "text/plain": [
       "(112571, 19)"
      ]
     },
     "execution_count": 5,
     "metadata": {},
     "output_type": "execute_result"
    }
   ],
   "source": [
    "arrests.shape"
   ]
  },
  {
   "cell_type": "code",
   "execution_count": 6,
   "id": "98b6c6b1-c483-47c0-9c3d-cb09f59fd0d2",
   "metadata": {
    "tags": []
   },
   "outputs": [
    {
     "name": "stderr",
     "output_type": "stream",
     "text": [
      "/Users/abbascauser/anaconda3/lib/python3.11/site-packages/IPython/core/interactiveshell.py:3445: FutureWarning: The `op` parameter is deprecated and will be removed in a future release. Please use the `predicate` parameter instead.\n",
      "  if await self.run_code(code, result, async_=asy):\n"
     ]
    }
   ],
   "source": [
    "# Mapping the arrests locations within community districts so we can port over demographic data. This will be used in the next round\n",
    "\n",
    "gdf = gpd.GeoDataFrame(arrests, geometry=gpd.points_from_xy(arrests.X_COORD_CD, arrests.Y_COORD_CD, crs=\"EPSG:2263\"))\n",
    "mapped_data = gpd.sjoin(gdf, cd, how='left', op=\"within\")"
   ]
  },
  {
   "cell_type": "code",
   "execution_count": 7,
   "id": "e935e8b3-b2b5-4ae9-977a-fc4fbb32609e",
   "metadata": {
    "tags": []
   },
   "outputs": [
    {
     "data": {
      "text/html": [
       "<div>\n",
       "<style scoped>\n",
       "    .dataframe tbody tr th:only-of-type {\n",
       "        vertical-align: middle;\n",
       "    }\n",
       "\n",
       "    .dataframe tbody tr th {\n",
       "        vertical-align: top;\n",
       "    }\n",
       "\n",
       "    .dataframe thead th {\n",
       "        text-align: right;\n",
       "    }\n",
       "</style>\n",
       "<table border=\"1\" class=\"dataframe\">\n",
       "  <thead>\n",
       "    <tr style=\"text-align: right;\">\n",
       "      <th></th>\n",
       "      <th>ARREST_KEY</th>\n",
       "      <th>ARREST_DATE</th>\n",
       "      <th>PD_CD</th>\n",
       "      <th>PD_DESC</th>\n",
       "      <th>KY_CD</th>\n",
       "      <th>OFNS_DESC</th>\n",
       "      <th>LAW_CODE</th>\n",
       "      <th>LAW_CAT_CD</th>\n",
       "      <th>ARREST_BORO</th>\n",
       "      <th>ARREST_PRECINCT</th>\n",
       "      <th>...</th>\n",
       "      <th>X_COORD_CD</th>\n",
       "      <th>Y_COORD_CD</th>\n",
       "      <th>Latitude</th>\n",
       "      <th>Longitude</th>\n",
       "      <th>New Georeferenced Column</th>\n",
       "      <th>geometry</th>\n",
       "      <th>index_right</th>\n",
       "      <th>BoroCD</th>\n",
       "      <th>Shape_Leng</th>\n",
       "      <th>Shape_Area</th>\n",
       "    </tr>\n",
       "  </thead>\n",
       "  <tbody>\n",
       "    <tr>\n",
       "      <th>0</th>\n",
       "      <td>263238742</td>\n",
       "      <td>02/08/2023</td>\n",
       "      <td>380.0</td>\n",
       "      <td>ROBBERY,CAR JACKING</td>\n",
       "      <td>105.0</td>\n",
       "      <td>ROBBERY</td>\n",
       "      <td>PL 1601003</td>\n",
       "      <td>F</td>\n",
       "      <td>K</td>\n",
       "      <td>62</td>\n",
       "      <td>...</td>\n",
       "      <td>989904</td>\n",
       "      <td>156928</td>\n",
       "      <td>40.597407</td>\n",
       "      <td>-73.979638</td>\n",
       "      <td>POINT (-73.979638 40.597407)</td>\n",
       "      <td>POINT (989904.000 156928.000)</td>\n",
       "      <td>12.0</td>\n",
       "      <td>311.0</td>\n",
       "      <td>51534.144461</td>\n",
       "      <td>1.032083e+08</td>\n",
       "    </tr>\n",
       "    <tr>\n",
       "      <th>1</th>\n",
       "      <td>265590985</td>\n",
       "      <td>03/24/2023</td>\n",
       "      <td>155.0</td>\n",
       "      <td>RAPE 2</td>\n",
       "      <td>104.0</td>\n",
       "      <td>RAPE</td>\n",
       "      <td>PL 1303001</td>\n",
       "      <td>F</td>\n",
       "      <td>S</td>\n",
       "      <td>120</td>\n",
       "      <td>...</td>\n",
       "      <td>962873</td>\n",
       "      <td>174172</td>\n",
       "      <td>40.644721</td>\n",
       "      <td>-74.077033</td>\n",
       "      <td>POINT (-74.0770327198983 40.6447209438691)</td>\n",
       "      <td>POINT (962873.000 174172.000)</td>\n",
       "      <td>3.0</td>\n",
       "      <td>501.0</td>\n",
       "      <td>153751.224769</td>\n",
       "      <td>3.772325e+08</td>\n",
       "    </tr>\n",
       "    <tr>\n",
       "      <th>2</th>\n",
       "      <td>265798132</td>\n",
       "      <td>03/28/2023</td>\n",
       "      <td>157.0</td>\n",
       "      <td>RAPE 1</td>\n",
       "      <td>104.0</td>\n",
       "      <td>RAPE</td>\n",
       "      <td>PL 1303501</td>\n",
       "      <td>F</td>\n",
       "      <td>S</td>\n",
       "      <td>120</td>\n",
       "      <td>...</td>\n",
       "      <td>962873</td>\n",
       "      <td>174172</td>\n",
       "      <td>40.644721</td>\n",
       "      <td>-74.077033</td>\n",
       "      <td>POINT (-74.0770327198983 40.6447209438691)</td>\n",
       "      <td>POINT (962873.000 174172.000)</td>\n",
       "      <td>3.0</td>\n",
       "      <td>501.0</td>\n",
       "      <td>153751.224769</td>\n",
       "      <td>3.772325e+08</td>\n",
       "    </tr>\n",
       "    <tr>\n",
       "      <th>3</th>\n",
       "      <td>269233687</td>\n",
       "      <td>06/02/2023</td>\n",
       "      <td>157.0</td>\n",
       "      <td>RAPE 1</td>\n",
       "      <td>104.0</td>\n",
       "      <td>RAPE</td>\n",
       "      <td>PL 1303501</td>\n",
       "      <td>F</td>\n",
       "      <td>Q</td>\n",
       "      <td>110</td>\n",
       "      <td>...</td>\n",
       "      <td>1019164</td>\n",
       "      <td>210169</td>\n",
       "      <td>40.743481</td>\n",
       "      <td>-73.874004</td>\n",
       "      <td>POINT (-73.8740035373971 40.7434812638841)</td>\n",
       "      <td>POINT (1019164.000 210169.000)</td>\n",
       "      <td>45.0</td>\n",
       "      <td>404.0</td>\n",
       "      <td>37018.384609</td>\n",
       "      <td>6.573961e+07</td>\n",
       "    </tr>\n",
       "    <tr>\n",
       "      <th>4</th>\n",
       "      <td>270519574</td>\n",
       "      <td>06/28/2023</td>\n",
       "      <td>157.0</td>\n",
       "      <td>RAPE 1</td>\n",
       "      <td>104.0</td>\n",
       "      <td>RAPE</td>\n",
       "      <td>PL 1303501</td>\n",
       "      <td>F</td>\n",
       "      <td>K</td>\n",
       "      <td>84</td>\n",
       "      <td>...</td>\n",
       "      <td>988902</td>\n",
       "      <td>192641</td>\n",
       "      <td>40.695439</td>\n",
       "      <td>-73.983225</td>\n",
       "      <td>POINT (-73.9832253756043 40.6954388081238)</td>\n",
       "      <td>POINT (988902.000 192641.000)</td>\n",
       "      <td>47.0</td>\n",
       "      <td>302.0</td>\n",
       "      <td>74158.876043</td>\n",
       "      <td>7.933825e+07</td>\n",
       "    </tr>\n",
       "    <tr>\n",
       "      <th>...</th>\n",
       "      <td>...</td>\n",
       "      <td>...</td>\n",
       "      <td>...</td>\n",
       "      <td>...</td>\n",
       "      <td>...</td>\n",
       "      <td>...</td>\n",
       "      <td>...</td>\n",
       "      <td>...</td>\n",
       "      <td>...</td>\n",
       "      <td>...</td>\n",
       "      <td>...</td>\n",
       "      <td>...</td>\n",
       "      <td>...</td>\n",
       "      <td>...</td>\n",
       "      <td>...</td>\n",
       "      <td>...</td>\n",
       "      <td>...</td>\n",
       "      <td>...</td>\n",
       "      <td>...</td>\n",
       "      <td>...</td>\n",
       "      <td>...</td>\n",
       "    </tr>\n",
       "    <tr>\n",
       "      <th>112566</th>\n",
       "      <td>267861068</td>\n",
       "      <td>05/07/2023</td>\n",
       "      <td>922.0</td>\n",
       "      <td>TRAFFIC,UNCLASSIFIED MISDEMEAN</td>\n",
       "      <td>348.0</td>\n",
       "      <td>VEHICLE AND TRAFFIC LAWS</td>\n",
       "      <td>VTL05110MU</td>\n",
       "      <td>M</td>\n",
       "      <td>Q</td>\n",
       "      <td>113</td>\n",
       "      <td>...</td>\n",
       "      <td>1046315</td>\n",
       "      <td>187088</td>\n",
       "      <td>40.679981</td>\n",
       "      <td>-73.776234</td>\n",
       "      <td>POINT (-73.7762339071953 40.6799807384666)</td>\n",
       "      <td>POINT (1046315.000 187088.000)</td>\n",
       "      <td>31.0</td>\n",
       "      <td>412.0</td>\n",
       "      <td>65926.092997</td>\n",
       "      <td>2.673326e+08</td>\n",
       "    </tr>\n",
       "    <tr>\n",
       "      <th>112567</th>\n",
       "      <td>270481110</td>\n",
       "      <td>06/27/2023</td>\n",
       "      <td>101.0</td>\n",
       "      <td>ASSAULT 3</td>\n",
       "      <td>344.0</td>\n",
       "      <td>ASSAULT 3 &amp; RELATED OFFENSES</td>\n",
       "      <td>PL 1200001</td>\n",
       "      <td>M</td>\n",
       "      <td>K</td>\n",
       "      <td>79</td>\n",
       "      <td>...</td>\n",
       "      <td>999872</td>\n",
       "      <td>187803</td>\n",
       "      <td>40.682141</td>\n",
       "      <td>-73.943673</td>\n",
       "      <td>POINT (-73.943673 40.682141)</td>\n",
       "      <td>POINT (999872.000 187803.000)</td>\n",
       "      <td>48.0</td>\n",
       "      <td>303.0</td>\n",
       "      <td>36213.675388</td>\n",
       "      <td>7.946168e+07</td>\n",
       "    </tr>\n",
       "    <tr>\n",
       "      <th>112568</th>\n",
       "      <td>267833542</td>\n",
       "      <td>05/06/2023</td>\n",
       "      <td>397.0</td>\n",
       "      <td>ROBBERY,OPEN AREA UNCLASSIFIED</td>\n",
       "      <td>105.0</td>\n",
       "      <td>ROBBERY</td>\n",
       "      <td>PL 1601502</td>\n",
       "      <td>F</td>\n",
       "      <td>B</td>\n",
       "      <td>43</td>\n",
       "      <td>...</td>\n",
       "      <td>1019852</td>\n",
       "      <td>241853</td>\n",
       "      <td>40.830435</td>\n",
       "      <td>-73.871349</td>\n",
       "      <td>POINT (-73.871349 40.830435)</td>\n",
       "      <td>POINT (1019852.000 241853.000)</td>\n",
       "      <td>43.0</td>\n",
       "      <td>209.0</td>\n",
       "      <td>62243.635444</td>\n",
       "      <td>1.142848e+08</td>\n",
       "    </tr>\n",
       "    <tr>\n",
       "      <th>112569</th>\n",
       "      <td>268911088</td>\n",
       "      <td>05/27/2023</td>\n",
       "      <td>494.0</td>\n",
       "      <td>STOLEN PROPERTY 2,1,POSSESSION</td>\n",
       "      <td>111.0</td>\n",
       "      <td>POSSESSION OF STOLEN PROPERTY</td>\n",
       "      <td>PL 1654502</td>\n",
       "      <td>F</td>\n",
       "      <td>B</td>\n",
       "      <td>46</td>\n",
       "      <td>...</td>\n",
       "      <td>1011750</td>\n",
       "      <td>250274</td>\n",
       "      <td>40.853578</td>\n",
       "      <td>-73.900591</td>\n",
       "      <td>POINT (-73.900591 40.853578)</td>\n",
       "      <td>POINT (1011750.000 250274.000)</td>\n",
       "      <td>9.0</td>\n",
       "      <td>205.0</td>\n",
       "      <td>29443.048181</td>\n",
       "      <td>3.831698e+07</td>\n",
       "    </tr>\n",
       "    <tr>\n",
       "      <th>112570</th>\n",
       "      <td>269584440</td>\n",
       "      <td>06/09/2023</td>\n",
       "      <td>439.0</td>\n",
       "      <td>LARCENY,GRAND FROM OPEN AREAS, UNATTENDED</td>\n",
       "      <td>109.0</td>\n",
       "      <td>GRAND LARCENY</td>\n",
       "      <td>PL 1553001</td>\n",
       "      <td>F</td>\n",
       "      <td>M</td>\n",
       "      <td>24</td>\n",
       "      <td>...</td>\n",
       "      <td>993372</td>\n",
       "      <td>229301</td>\n",
       "      <td>40.796050</td>\n",
       "      <td>-73.967052</td>\n",
       "      <td>POINT (-73.967052 40.79605)</td>\n",
       "      <td>POINT (993372.000 229301.000)</td>\n",
       "      <td>34.0</td>\n",
       "      <td>107.0</td>\n",
       "      <td>39863.703556</td>\n",
       "      <td>5.315258e+07</td>\n",
       "    </tr>\n",
       "  </tbody>\n",
       "</table>\n",
       "<p>112571 rows × 24 columns</p>\n",
       "</div>"
      ],
      "text/plain": [
       "        ARREST_KEY ARREST_DATE  PD_CD  \\\n",
       "0        263238742  02/08/2023  380.0   \n",
       "1        265590985  03/24/2023  155.0   \n",
       "2        265798132  03/28/2023  157.0   \n",
       "3        269233687  06/02/2023  157.0   \n",
       "4        270519574  06/28/2023  157.0   \n",
       "...            ...         ...    ...   \n",
       "112566   267861068  05/07/2023  922.0   \n",
       "112567   270481110  06/27/2023  101.0   \n",
       "112568   267833542  05/06/2023  397.0   \n",
       "112569   268911088  05/27/2023  494.0   \n",
       "112570   269584440  06/09/2023  439.0   \n",
       "\n",
       "                                          PD_DESC  KY_CD  \\\n",
       "0                             ROBBERY,CAR JACKING  105.0   \n",
       "1                                          RAPE 2  104.0   \n",
       "2                                          RAPE 1  104.0   \n",
       "3                                          RAPE 1  104.0   \n",
       "4                                          RAPE 1  104.0   \n",
       "...                                           ...    ...   \n",
       "112566             TRAFFIC,UNCLASSIFIED MISDEMEAN  348.0   \n",
       "112567                                  ASSAULT 3  344.0   \n",
       "112568             ROBBERY,OPEN AREA UNCLASSIFIED  105.0   \n",
       "112569             STOLEN PROPERTY 2,1,POSSESSION  111.0   \n",
       "112570  LARCENY,GRAND FROM OPEN AREAS, UNATTENDED  109.0   \n",
       "\n",
       "                            OFNS_DESC    LAW_CODE LAW_CAT_CD ARREST_BORO  \\\n",
       "0                             ROBBERY  PL 1601003          F           K   \n",
       "1                                RAPE  PL 1303001          F           S   \n",
       "2                                RAPE  PL 1303501          F           S   \n",
       "3                                RAPE  PL 1303501          F           Q   \n",
       "4                                RAPE  PL 1303501          F           K   \n",
       "...                               ...         ...        ...         ...   \n",
       "112566       VEHICLE AND TRAFFIC LAWS  VTL05110MU          M           Q   \n",
       "112567   ASSAULT 3 & RELATED OFFENSES  PL 1200001          M           K   \n",
       "112568                        ROBBERY  PL 1601502          F           B   \n",
       "112569  POSSESSION OF STOLEN PROPERTY  PL 1654502          F           B   \n",
       "112570                  GRAND LARCENY  PL 1553001          F           M   \n",
       "\n",
       "        ARREST_PRECINCT  ...  X_COORD_CD Y_COORD_CD   Latitude  Longitude  \\\n",
       "0                    62  ...      989904     156928  40.597407 -73.979638   \n",
       "1                   120  ...      962873     174172  40.644721 -74.077033   \n",
       "2                   120  ...      962873     174172  40.644721 -74.077033   \n",
       "3                   110  ...     1019164     210169  40.743481 -73.874004   \n",
       "4                    84  ...      988902     192641  40.695439 -73.983225   \n",
       "...                 ...  ...         ...        ...        ...        ...   \n",
       "112566              113  ...     1046315     187088  40.679981 -73.776234   \n",
       "112567               79  ...      999872     187803  40.682141 -73.943673   \n",
       "112568               43  ...     1019852     241853  40.830435 -73.871349   \n",
       "112569               46  ...     1011750     250274  40.853578 -73.900591   \n",
       "112570               24  ...      993372     229301  40.796050 -73.967052   \n",
       "\n",
       "                          New Georeferenced Column  \\\n",
       "0                     POINT (-73.979638 40.597407)   \n",
       "1       POINT (-74.0770327198983 40.6447209438691)   \n",
       "2       POINT (-74.0770327198983 40.6447209438691)   \n",
       "3       POINT (-73.8740035373971 40.7434812638841)   \n",
       "4       POINT (-73.9832253756043 40.6954388081238)   \n",
       "...                                            ...   \n",
       "112566  POINT (-73.7762339071953 40.6799807384666)   \n",
       "112567                POINT (-73.943673 40.682141)   \n",
       "112568                POINT (-73.871349 40.830435)   \n",
       "112569                POINT (-73.900591 40.853578)   \n",
       "112570                 POINT (-73.967052 40.79605)   \n",
       "\n",
       "                              geometry  index_right  BoroCD     Shape_Leng  \\\n",
       "0        POINT (989904.000 156928.000)         12.0   311.0   51534.144461   \n",
       "1        POINT (962873.000 174172.000)          3.0   501.0  153751.224769   \n",
       "2        POINT (962873.000 174172.000)          3.0   501.0  153751.224769   \n",
       "3       POINT (1019164.000 210169.000)         45.0   404.0   37018.384609   \n",
       "4        POINT (988902.000 192641.000)         47.0   302.0   74158.876043   \n",
       "...                                ...          ...     ...            ...   \n",
       "112566  POINT (1046315.000 187088.000)         31.0   412.0   65926.092997   \n",
       "112567   POINT (999872.000 187803.000)         48.0   303.0   36213.675388   \n",
       "112568  POINT (1019852.000 241853.000)         43.0   209.0   62243.635444   \n",
       "112569  POINT (1011750.000 250274.000)          9.0   205.0   29443.048181   \n",
       "112570   POINT (993372.000 229301.000)         34.0   107.0   39863.703556   \n",
       "\n",
       "          Shape_Area  \n",
       "0       1.032083e+08  \n",
       "1       3.772325e+08  \n",
       "2       3.772325e+08  \n",
       "3       6.573961e+07  \n",
       "4       7.933825e+07  \n",
       "...              ...  \n",
       "112566  2.673326e+08  \n",
       "112567  7.946168e+07  \n",
       "112568  1.142848e+08  \n",
       "112569  3.831698e+07  \n",
       "112570  5.315258e+07  \n",
       "\n",
       "[112571 rows x 24 columns]"
      ]
     },
     "execution_count": 7,
     "metadata": {},
     "output_type": "execute_result"
    }
   ],
   "source": [
    "mapped_data"
   ]
  },
  {
   "cell_type": "code",
   "execution_count": 8,
   "id": "e067b177-be3e-4fda-a692-49f259620a5b",
   "metadata": {
    "tags": []
   },
   "outputs": [],
   "source": [
    "# Converting arrest date to datetime\n",
    "\n",
    "arrests['ARREST_DATE'] = pd.to_datetime(arrests['ARREST_DATE'])"
   ]
  },
  {
   "cell_type": "code",
   "execution_count": 9,
   "id": "55ca7dc2-117a-4fe7-9a78-4cc9655dcd02",
   "metadata": {
    "tags": []
   },
   "outputs": [],
   "source": [
    "# Adding a new column for day of week based on arrest date\n",
    "\n",
    "arrests['DOW'] = arrests['ARREST_DATE'].dt.strftime(\"%a\")"
   ]
  },
  {
   "cell_type": "code",
   "execution_count": 10,
   "id": "0eb15f27-c962-4a31-b448-acd582fbcc33",
   "metadata": {
    "tags": []
   },
   "outputs": [
    {
     "data": {
      "text/plain": [
       "ASSAULT 3 & RELATED OFFENSES      16619\n",
       "PETIT LARCENY                     12070\n",
       "FELONY ASSAULT                    10474\n",
       "DANGEROUS DRUGS                    7530\n",
       "MISCELLANEOUS PENAL LAW            7327\n",
       "                                  ...  \n",
       "PARKING OFFENSES                      3\n",
       "FELONY SEX CRIMES                     2\n",
       "DISRUPTION OF A RELIGIOUS SERV        2\n",
       "UNLAWFUL POSS. WEAP. ON SCHOOL        1\n",
       "ADMINISTRATIVE CODES                  1\n",
       "Name: OFNS_DESC, Length: 63, dtype: int64"
      ]
     },
     "execution_count": 10,
     "metadata": {},
     "output_type": "execute_result"
    }
   ],
   "source": [
    "arrests['OFNS_DESC'].value_counts()"
   ]
  },
  {
   "cell_type": "code",
   "execution_count": 11,
   "id": "9a8d23e2-4404-4c85-9f09-c7feebc69d72",
   "metadata": {
    "tags": []
   },
   "outputs": [
    {
     "data": {
      "text/html": [
       "<div>\n",
       "<style scoped>\n",
       "    .dataframe tbody tr th:only-of-type {\n",
       "        vertical-align: middle;\n",
       "    }\n",
       "\n",
       "    .dataframe tbody tr th {\n",
       "        vertical-align: top;\n",
       "    }\n",
       "\n",
       "    .dataframe thead th {\n",
       "        text-align: right;\n",
       "    }\n",
       "</style>\n",
       "<table border=\"1\" class=\"dataframe\">\n",
       "  <thead>\n",
       "    <tr style=\"text-align: right;\">\n",
       "      <th></th>\n",
       "      <th>cd_name</th>\n",
       "      <th>cd_number</th>\n",
       "      <th>borough</th>\n",
       "      <th>pct_foreign_born</th>\n",
       "      <th>moe_foreign_born</th>\n",
       "      <th>lep_rate</th>\n",
       "      <th>moe_lep_rate</th>\n",
       "      <th>pct_white_nh</th>\n",
       "      <th>pct_black_nh</th>\n",
       "      <th>pct_asian_nh</th>\n",
       "      <th>...</th>\n",
       "      <th>pct_hh_rent_burd</th>\n",
       "      <th>moe_hh_rent_burd</th>\n",
       "      <th>pct_bach_deg</th>\n",
       "      <th>moe_bach_deg</th>\n",
       "      <th>unemployment</th>\n",
       "      <th>moe_unemployment</th>\n",
       "      <th>mean_commute</th>\n",
       "      <th>moe_mean_commute</th>\n",
       "      <th>crime_count</th>\n",
       "      <th>crime_per_1000</th>\n",
       "    </tr>\n",
       "  </thead>\n",
       "  <tbody>\n",
       "    <tr>\n",
       "      <th>19</th>\n",
       "      <td>Brooklyn Community District 8</td>\n",
       "      <td>308</td>\n",
       "      <td>Brooklyn</td>\n",
       "      <td>29.5</td>\n",
       "      <td>1.2</td>\n",
       "      <td>6.7</td>\n",
       "      <td>0.7</td>\n",
       "      <td>27.4</td>\n",
       "      <td>52.8</td>\n",
       "      <td>4.1</td>\n",
       "      <td>...</td>\n",
       "      <td>41.8</td>\n",
       "      <td>1.8</td>\n",
       "      <td>45.1</td>\n",
       "      <td>1.2</td>\n",
       "      <td>4.6</td>\n",
       "      <td>0.5</td>\n",
       "      <td>41.2</td>\n",
       "      <td>1.5</td>\n",
       "      <td>1140</td>\n",
       "      <td>9.4</td>\n",
       "    </tr>\n",
       "  </tbody>\n",
       "</table>\n",
       "<p>1 rows × 24 columns</p>\n",
       "</div>"
      ],
      "text/plain": [
       "                          cd_name  cd_number   borough  pct_foreign_born  \\\n",
       "19  Brooklyn Community District 8        308  Brooklyn              29.5   \n",
       "\n",
       "    moe_foreign_born  lep_rate  moe_lep_rate  pct_white_nh  pct_black_nh  \\\n",
       "19               1.2       6.7           0.7          27.4          52.8   \n",
       "\n",
       "    pct_asian_nh  ...  pct_hh_rent_burd  moe_hh_rent_burd  pct_bach_deg  \\\n",
       "19           4.1  ...              41.8               1.8          45.1   \n",
       "\n",
       "    moe_bach_deg  unemployment  moe_unemployment  mean_commute  \\\n",
       "19           1.2           4.6               0.5          41.2   \n",
       "\n",
       "    moe_mean_commute  crime_count  crime_per_1000  \n",
       "19               1.5         1140             9.4  \n",
       "\n",
       "[1 rows x 24 columns]"
      ]
     },
     "execution_count": 11,
     "metadata": {},
     "output_type": "execute_result"
    }
   ],
   "source": [
    "cd_profile = pd.read_csv('/Users/abbascauser/Downloads/cd_demo_race_economics.csv')\n",
    "cd_profile.loc[cd_profile['cd_number']==308,:]"
   ]
  },
  {
   "cell_type": "code",
   "execution_count": 12,
   "id": "de29e71f-d9bc-4c57-a317-3df72745010d",
   "metadata": {
    "tags": []
   },
   "outputs": [
    {
     "data": {
      "text/html": [
       "<div>\n",
       "<style scoped>\n",
       "    .dataframe tbody tr th:only-of-type {\n",
       "        vertical-align: middle;\n",
       "    }\n",
       "\n",
       "    .dataframe tbody tr th {\n",
       "        vertical-align: top;\n",
       "    }\n",
       "\n",
       "    .dataframe thead th {\n",
       "        text-align: right;\n",
       "    }\n",
       "</style>\n",
       "<table border=\"1\" class=\"dataframe\">\n",
       "  <thead>\n",
       "    <tr style=\"text-align: right;\">\n",
       "      <th></th>\n",
       "      <th>the_geom</th>\n",
       "      <th>BoroCD</th>\n",
       "      <th>Shape_Leng</th>\n",
       "      <th>Shape_Area</th>\n",
       "    </tr>\n",
       "  </thead>\n",
       "  <tbody>\n",
       "    <tr>\n",
       "      <th>0</th>\n",
       "      <td>MULTIPOLYGON (((-73.95829216807752 40.67983113...</td>\n",
       "      <td>308</td>\n",
       "      <td>38232.886649</td>\n",
       "      <td>4.560379e+07</td>\n",
       "    </tr>\n",
       "    <tr>\n",
       "      <th>1</th>\n",
       "      <td>MULTIPOLYGON (((-73.9097168492596 40.565287425...</td>\n",
       "      <td>414</td>\n",
       "      <td>210918.174933</td>\n",
       "      <td>1.955766e+08</td>\n",
       "    </tr>\n",
       "    <tr>\n",
       "      <th>2</th>\n",
       "      <td>MULTIPOLYGON (((-73.90268810116362 40.84458147...</td>\n",
       "      <td>204</td>\n",
       "      <td>31358.450463</td>\n",
       "      <td>5.552214e+07</td>\n",
       "    </tr>\n",
       "    <tr>\n",
       "      <th>3</th>\n",
       "      <td>MULTIPOLYGON (((-74.15945602438066 40.64144833...</td>\n",
       "      <td>501</td>\n",
       "      <td>153751.224769</td>\n",
       "      <td>3.772325e+08</td>\n",
       "    </tr>\n",
       "    <tr>\n",
       "      <th>4</th>\n",
       "      <td>MULTIPOLYGON (((-73.85254750230214 40.76006981...</td>\n",
       "      <td>407</td>\n",
       "      <td>145357.138028</td>\n",
       "      <td>3.282876e+08</td>\n",
       "    </tr>\n",
       "    <tr>\n",
       "      <th>...</th>\n",
       "      <td>...</td>\n",
       "      <td>...</td>\n",
       "      <td>...</td>\n",
       "      <td>...</td>\n",
       "    </tr>\n",
       "    <tr>\n",
       "      <th>66</th>\n",
       "      <td>MULTIPOLYGON (((-73.9123679028881 40.584526174...</td>\n",
       "      <td>356</td>\n",
       "      <td>255184.045964</td>\n",
       "      <td>1.302063e+08</td>\n",
       "    </tr>\n",
       "    <tr>\n",
       "      <th>67</th>\n",
       "      <td>MULTIPOLYGON (((-73.98877931684075 40.73396539...</td>\n",
       "      <td>103</td>\n",
       "      <td>30507.707496</td>\n",
       "      <td>4.687392e+07</td>\n",
       "    </tr>\n",
       "    <tr>\n",
       "      <th>68</th>\n",
       "      <td>MULTIPOLYGON (((-73.92405909736993 40.71411156...</td>\n",
       "      <td>301</td>\n",
       "      <td>69196.767286</td>\n",
       "      <td>1.316952e+08</td>\n",
       "    </tr>\n",
       "    <tr>\n",
       "      <th>69</th>\n",
       "      <td>MULTIPOLYGON (((-73.98017161103716 40.66115465...</td>\n",
       "      <td>307</td>\n",
       "      <td>87448.443796</td>\n",
       "      <td>1.041264e+08</td>\n",
       "    </tr>\n",
       "    <tr>\n",
       "      <th>70</th>\n",
       "      <td>MULTIPOLYGON (((-73.95630035122711 40.65504828...</td>\n",
       "      <td>314</td>\n",
       "      <td>49295.211831</td>\n",
       "      <td>8.217417e+07</td>\n",
       "    </tr>\n",
       "  </tbody>\n",
       "</table>\n",
       "<p>71 rows × 4 columns</p>\n",
       "</div>"
      ],
      "text/plain": [
       "                                             the_geom  BoroCD     Shape_Leng  \\\n",
       "0   MULTIPOLYGON (((-73.95829216807752 40.67983113...     308   38232.886649   \n",
       "1   MULTIPOLYGON (((-73.9097168492596 40.565287425...     414  210918.174933   \n",
       "2   MULTIPOLYGON (((-73.90268810116362 40.84458147...     204   31358.450463   \n",
       "3   MULTIPOLYGON (((-74.15945602438066 40.64144833...     501  153751.224769   \n",
       "4   MULTIPOLYGON (((-73.85254750230214 40.76006981...     407  145357.138028   \n",
       "..                                                ...     ...            ...   \n",
       "66  MULTIPOLYGON (((-73.9123679028881 40.584526174...     356  255184.045964   \n",
       "67  MULTIPOLYGON (((-73.98877931684075 40.73396539...     103   30507.707496   \n",
       "68  MULTIPOLYGON (((-73.92405909736993 40.71411156...     301   69196.767286   \n",
       "69  MULTIPOLYGON (((-73.98017161103716 40.66115465...     307   87448.443796   \n",
       "70  MULTIPOLYGON (((-73.95630035122711 40.65504828...     314   49295.211831   \n",
       "\n",
       "      Shape_Area  \n",
       "0   4.560379e+07  \n",
       "1   1.955766e+08  \n",
       "2   5.552214e+07  \n",
       "3   3.772325e+08  \n",
       "4   3.282876e+08  \n",
       "..           ...  \n",
       "66  1.302063e+08  \n",
       "67  4.687392e+07  \n",
       "68  1.316952e+08  \n",
       "69  1.041264e+08  \n",
       "70  8.217417e+07  \n",
       "\n",
       "[71 rows x 4 columns]"
      ]
     },
     "execution_count": 12,
     "metadata": {},
     "output_type": "execute_result"
    }
   ],
   "source": [
    "comm_dist = pd.read_csv('/Users/abbascauser/Downloads/nycd.csv')\n",
    "comm_dist"
   ]
  },
  {
   "cell_type": "code",
   "execution_count": 13,
   "id": "0c4423d2-4561-4d41-9466-67a812187c1e",
   "metadata": {
    "tags": []
   },
   "outputs": [
    {
     "data": {
      "text/plain": [
       "ASSAULT 3 & RELATED OFFENSES      16619\n",
       "PETIT LARCENY                     12070\n",
       "FELONY ASSAULT                    10474\n",
       "DANGEROUS DRUGS                    7530\n",
       "MISCELLANEOUS PENAL LAW            7327\n",
       "                                  ...  \n",
       "PARKING OFFENSES                      3\n",
       "FELONY SEX CRIMES                     2\n",
       "DISRUPTION OF A RELIGIOUS SERV        2\n",
       "UNLAWFUL POSS. WEAP. ON SCHOOL        1\n",
       "ADMINISTRATIVE CODES                  1\n",
       "Name: OFNS_DESC, Length: 63, dtype: int64"
      ]
     },
     "execution_count": 13,
     "metadata": {},
     "output_type": "execute_result"
    }
   ],
   "source": [
    "arrests['OFNS_DESC'].value_counts()"
   ]
  },
  {
   "cell_type": "code",
   "execution_count": 14,
   "id": "6b8935c5-b3c5-41c4-899b-feac087ce53a",
   "metadata": {
    "tags": []
   },
   "outputs": [],
   "source": [
    "# Creating a new column for offense type\n",
    "\n",
    "arrests['OFFENSE_TYPE'] = arrests['OFNS_DESC']"
   ]
  },
  {
   "cell_type": "code",
   "execution_count": 15,
   "id": "24c03097-ba01-4f1a-b8ab-4afb3d5ded6e",
   "metadata": {
    "tags": []
   },
   "outputs": [],
   "source": [
    "# Creating new buckets for each of the offense type to reduce its complexity\n",
    "\n",
    "assault = arrests[arrests['OFFENSE_TYPE'].str.contains('|'.join(['assault','murder']),case=False,na=False)==True]\n",
    "larceny = arrests[arrests['OFFENSE_TYPE'].str.contains('|'.join(['larceny','thef','stolen','steal']),case=False,na=False)==True]\n",
    "burglary = arrests[arrests['OFFENSE_TYPE'].str.contains('|'.join(['burglar','trespass']),case=False,na=False)==True]\n",
    "substance = arrests[arrests['OFFENSE_TYPE'].str.contains('|'.join(['drug','cannabis','alcohol']),case=False,na=False)==True]\n",
    "motor = arrests[arrests['OFFENSE_TYPE'].str.contains('|'.join(['traffic','driving','car','vehicle']),case=False,na=False)==True]\n",
    "sex_crimes = arrests[arrests['OFFENSE_TYPE'].str.contains('|'.join(['rape','sex','prostitution']),case=False,na=False)==True]\n",
    "fraud = arrests[arrests['OFFENSE_TYPE'].str.contains('|'.join(['fraud','forgery']),case=False,na=False)==True]"
   ]
  },
  {
   "cell_type": "code",
   "execution_count": 16,
   "id": "328e1d19-284d-41c0-8cfd-f34d51b4f6f9",
   "metadata": {
    "tags": []
   },
   "outputs": [
    {
     "data": {
      "text/plain": [
       "ASSAULT 3 & RELATED OFFENSES      16619\n",
       "FELONY ASSAULT                    10474\n",
       "MURDER & NON-NEGL. MANSLAUGHTE      948\n",
       "Name: OFFENSE_TYPE, dtype: int64"
      ]
     },
     "execution_count": 16,
     "metadata": {},
     "output_type": "execute_result"
    }
   ],
   "source": [
    "assault['OFFENSE_TYPE'].value_counts()"
   ]
  },
  {
   "cell_type": "code",
   "execution_count": 17,
   "id": "8c438bf2-7ba7-4e56-ab91-c6b7b8afcada",
   "metadata": {
    "tags": []
   },
   "outputs": [
    {
     "data": {
      "text/plain": [
       "PETIT LARCENY                     12070\n",
       "GRAND LARCENY                      5074\n",
       "OTHER OFFENSES RELATED TO THEF     2664\n",
       "POSSESSION OF STOLEN PROPERTY      1814\n",
       "GRAND LARCENY OF MOTOR VEHICLE      870\n",
       "THEFT-FRAUD                         119\n",
       "THEFT OF SERVICES                    70\n",
       "Name: OFFENSE_TYPE, dtype: int64"
      ]
     },
     "execution_count": 17,
     "metadata": {},
     "output_type": "execute_result"
    }
   ],
   "source": [
    "larceny['OFFENSE_TYPE'].value_counts()"
   ]
  },
  {
   "cell_type": "code",
   "execution_count": 18,
   "id": "b7777eaa-781c-4a98-8ab4-0844559c3d52",
   "metadata": {
    "tags": []
   },
   "outputs": [
    {
     "data": {
      "text/plain": [
       "BURGLARY             3173\n",
       "CRIMINAL TRESPASS    1000\n",
       "BURGLAR'S TOOLS       344\n",
       "Name: OFFENSE_TYPE, dtype: int64"
      ]
     },
     "execution_count": 18,
     "metadata": {},
     "output_type": "execute_result"
    }
   ],
   "source": [
    "burglary['OFFENSE_TYPE'].value_counts()"
   ]
  },
  {
   "cell_type": "code",
   "execution_count": 19,
   "id": "daa16860-469e-45a6-8a27-5c604cad4b1b",
   "metadata": {
    "tags": []
   },
   "outputs": [
    {
     "data": {
      "text/plain": [
       "DANGEROUS DRUGS                   7530\n",
       "CANNABIS RELATED OFFENSES          126\n",
       "ALCOHOLIC BEVERAGE CONTROL LAW      96\n",
       "Name: OFFENSE_TYPE, dtype: int64"
      ]
     },
     "execution_count": 19,
     "metadata": {},
     "output_type": "execute_result"
    }
   ],
   "source": [
    "substance['OFFENSE_TYPE'].value_counts()"
   ]
  },
  {
   "cell_type": "code",
   "execution_count": 20,
   "id": "c0a2fedc-4347-418f-bc26-439d7549c8b6",
   "metadata": {
    "tags": []
   },
   "outputs": [
    {
     "data": {
      "text/plain": [
       "VEHICLE AND TRAFFIC LAWS          6612\n",
       "INTOXICATED & IMPAIRED DRIVING    1331\n",
       "OTHER TRAFFIC INFRACTION          1137\n",
       "GRAND LARCENY OF MOTOR VEHICLE     870\n",
       "UNAUTHORIZED USE OF A VEHICLE      325\n",
       "INTOXICATED/IMPAIRED DRIVING       207\n",
       "Name: OFFENSE_TYPE, dtype: int64"
      ]
     },
     "execution_count": 20,
     "metadata": {},
     "output_type": "execute_result"
    }
   ],
   "source": [
    "motor['OFFENSE_TYPE'].value_counts()"
   ]
  },
  {
   "cell_type": "code",
   "execution_count": 21,
   "id": "57755b49-4182-43e3-b1fd-42b483491e78",
   "metadata": {
    "tags": []
   },
   "outputs": [
    {
     "data": {
      "text/plain": [
       "SEX CRIMES                         2600\n",
       "RAPE                                359\n",
       "PROSTITUTION & RELATED OFFENSES     126\n",
       "FELONY SEX CRIMES                     2\n",
       "Name: OFFENSE_TYPE, dtype: int64"
      ]
     },
     "execution_count": 21,
     "metadata": {},
     "output_type": "execute_result"
    }
   ],
   "source": [
    "sex_crimes['OFFENSE_TYPE'].value_counts()"
   ]
  },
  {
   "cell_type": "code",
   "execution_count": 22,
   "id": "b573ec9c-6ae1-457b-85a5-0a93dae1a392",
   "metadata": {
    "tags": []
   },
   "outputs": [
    {
     "data": {
      "text/plain": [
       "OFFENSES INVOLVING FRAUD    2645\n",
       "FORGERY                     1755\n",
       "FRAUDS                       354\n",
       "THEFT-FRAUD                  119\n",
       "FRAUDULENT ACCOSTING          34\n",
       "Name: OFFENSE_TYPE, dtype: int64"
      ]
     },
     "execution_count": 22,
     "metadata": {},
     "output_type": "execute_result"
    }
   ],
   "source": [
    "fraud['OFFENSE_TYPE'].value_counts()"
   ]
  },
  {
   "cell_type": "code",
   "execution_count": 23,
   "id": "17e4ed51-0745-4f30-aa94-6b4853dee50d",
   "metadata": {
    "tags": []
   },
   "outputs": [
    {
     "data": {
      "text/html": [
       "<div>\n",
       "<style scoped>\n",
       "    .dataframe tbody tr th:only-of-type {\n",
       "        vertical-align: middle;\n",
       "    }\n",
       "\n",
       "    .dataframe tbody tr th {\n",
       "        vertical-align: top;\n",
       "    }\n",
       "\n",
       "    .dataframe thead th {\n",
       "        text-align: right;\n",
       "    }\n",
       "</style>\n",
       "<table border=\"1\" class=\"dataframe\">\n",
       "  <thead>\n",
       "    <tr style=\"text-align: right;\">\n",
       "      <th></th>\n",
       "      <th>ARREST_KEY</th>\n",
       "      <th>ARREST_DATE</th>\n",
       "      <th>PD_CD</th>\n",
       "      <th>PD_DESC</th>\n",
       "      <th>KY_CD</th>\n",
       "      <th>OFNS_DESC</th>\n",
       "      <th>LAW_CODE</th>\n",
       "      <th>LAW_CAT_CD</th>\n",
       "      <th>ARREST_BORO</th>\n",
       "      <th>ARREST_PRECINCT</th>\n",
       "      <th>...</th>\n",
       "      <th>AGE_GROUP</th>\n",
       "      <th>PERP_SEX</th>\n",
       "      <th>PERP_RACE</th>\n",
       "      <th>X_COORD_CD</th>\n",
       "      <th>Y_COORD_CD</th>\n",
       "      <th>Latitude</th>\n",
       "      <th>Longitude</th>\n",
       "      <th>New Georeferenced Column</th>\n",
       "      <th>DOW</th>\n",
       "      <th>OFFENSE_TYPE</th>\n",
       "    </tr>\n",
       "  </thead>\n",
       "  <tbody>\n",
       "    <tr>\n",
       "      <th>0</th>\n",
       "      <td>263238742</td>\n",
       "      <td>2023-02-08</td>\n",
       "      <td>380.0</td>\n",
       "      <td>ROBBERY,CAR JACKING</td>\n",
       "      <td>105.0</td>\n",
       "      <td>ROBBERY</td>\n",
       "      <td>PL 1601003</td>\n",
       "      <td>F</td>\n",
       "      <td>K</td>\n",
       "      <td>62</td>\n",
       "      <td>...</td>\n",
       "      <td>25-44</td>\n",
       "      <td>F</td>\n",
       "      <td>WHITE</td>\n",
       "      <td>989904</td>\n",
       "      <td>156928</td>\n",
       "      <td>40.597407</td>\n",
       "      <td>-73.979638</td>\n",
       "      <td>POINT (-73.979638 40.597407)</td>\n",
       "      <td>Wed</td>\n",
       "      <td>ROBBERY</td>\n",
       "    </tr>\n",
       "    <tr>\n",
       "      <th>1</th>\n",
       "      <td>265590985</td>\n",
       "      <td>2023-03-24</td>\n",
       "      <td>155.0</td>\n",
       "      <td>RAPE 2</td>\n",
       "      <td>104.0</td>\n",
       "      <td>RAPE</td>\n",
       "      <td>PL 1303001</td>\n",
       "      <td>F</td>\n",
       "      <td>S</td>\n",
       "      <td>120</td>\n",
       "      <td>...</td>\n",
       "      <td>18-24</td>\n",
       "      <td>M</td>\n",
       "      <td>BLACK</td>\n",
       "      <td>962873</td>\n",
       "      <td>174172</td>\n",
       "      <td>40.644721</td>\n",
       "      <td>-74.077033</td>\n",
       "      <td>POINT (-74.0770327198983 40.6447209438691)</td>\n",
       "      <td>Fri</td>\n",
       "      <td>RAPE</td>\n",
       "    </tr>\n",
       "    <tr>\n",
       "      <th>2</th>\n",
       "      <td>265798132</td>\n",
       "      <td>2023-03-28</td>\n",
       "      <td>157.0</td>\n",
       "      <td>RAPE 1</td>\n",
       "      <td>104.0</td>\n",
       "      <td>RAPE</td>\n",
       "      <td>PL 1303501</td>\n",
       "      <td>F</td>\n",
       "      <td>S</td>\n",
       "      <td>120</td>\n",
       "      <td>...</td>\n",
       "      <td>25-44</td>\n",
       "      <td>M</td>\n",
       "      <td>BLACK</td>\n",
       "      <td>962873</td>\n",
       "      <td>174172</td>\n",
       "      <td>40.644721</td>\n",
       "      <td>-74.077033</td>\n",
       "      <td>POINT (-74.0770327198983 40.6447209438691)</td>\n",
       "      <td>Tue</td>\n",
       "      <td>RAPE</td>\n",
       "    </tr>\n",
       "    <tr>\n",
       "      <th>3</th>\n",
       "      <td>269233687</td>\n",
       "      <td>2023-06-02</td>\n",
       "      <td>157.0</td>\n",
       "      <td>RAPE 1</td>\n",
       "      <td>104.0</td>\n",
       "      <td>RAPE</td>\n",
       "      <td>PL 1303501</td>\n",
       "      <td>F</td>\n",
       "      <td>Q</td>\n",
       "      <td>110</td>\n",
       "      <td>...</td>\n",
       "      <td>25-44</td>\n",
       "      <td>M</td>\n",
       "      <td>WHITE HISPANIC</td>\n",
       "      <td>1019164</td>\n",
       "      <td>210169</td>\n",
       "      <td>40.743481</td>\n",
       "      <td>-73.874004</td>\n",
       "      <td>POINT (-73.8740035373971 40.7434812638841)</td>\n",
       "      <td>Fri</td>\n",
       "      <td>RAPE</td>\n",
       "    </tr>\n",
       "    <tr>\n",
       "      <th>4</th>\n",
       "      <td>270519574</td>\n",
       "      <td>2023-06-28</td>\n",
       "      <td>157.0</td>\n",
       "      <td>RAPE 1</td>\n",
       "      <td>104.0</td>\n",
       "      <td>RAPE</td>\n",
       "      <td>PL 1303501</td>\n",
       "      <td>F</td>\n",
       "      <td>K</td>\n",
       "      <td>84</td>\n",
       "      <td>...</td>\n",
       "      <td>25-44</td>\n",
       "      <td>M</td>\n",
       "      <td>BLACK HISPANIC</td>\n",
       "      <td>988902</td>\n",
       "      <td>192641</td>\n",
       "      <td>40.695439</td>\n",
       "      <td>-73.983225</td>\n",
       "      <td>POINT (-73.9832253756043 40.6954388081238)</td>\n",
       "      <td>Wed</td>\n",
       "      <td>RAPE</td>\n",
       "    </tr>\n",
       "  </tbody>\n",
       "</table>\n",
       "<p>5 rows × 21 columns</p>\n",
       "</div>"
      ],
      "text/plain": [
       "   ARREST_KEY ARREST_DATE  PD_CD              PD_DESC  KY_CD OFNS_DESC  \\\n",
       "0   263238742  2023-02-08  380.0  ROBBERY,CAR JACKING  105.0   ROBBERY   \n",
       "1   265590985  2023-03-24  155.0               RAPE 2  104.0      RAPE   \n",
       "2   265798132  2023-03-28  157.0               RAPE 1  104.0      RAPE   \n",
       "3   269233687  2023-06-02  157.0               RAPE 1  104.0      RAPE   \n",
       "4   270519574  2023-06-28  157.0               RAPE 1  104.0      RAPE   \n",
       "\n",
       "     LAW_CODE LAW_CAT_CD ARREST_BORO  ARREST_PRECINCT  ...  AGE_GROUP  \\\n",
       "0  PL 1601003          F           K               62  ...      25-44   \n",
       "1  PL 1303001          F           S              120  ...      18-24   \n",
       "2  PL 1303501          F           S              120  ...      25-44   \n",
       "3  PL 1303501          F           Q              110  ...      25-44   \n",
       "4  PL 1303501          F           K               84  ...      25-44   \n",
       "\n",
       "  PERP_SEX       PERP_RACE X_COORD_CD  Y_COORD_CD   Latitude  Longitude  \\\n",
       "0        F           WHITE     989904      156928  40.597407 -73.979638   \n",
       "1        M           BLACK     962873      174172  40.644721 -74.077033   \n",
       "2        M           BLACK     962873      174172  40.644721 -74.077033   \n",
       "3        M  WHITE HISPANIC    1019164      210169  40.743481 -73.874004   \n",
       "4        M  BLACK HISPANIC     988902      192641  40.695439 -73.983225   \n",
       "\n",
       "                     New Georeferenced Column  DOW OFFENSE_TYPE  \n",
       "0                POINT (-73.979638 40.597407)  Wed      ROBBERY  \n",
       "1  POINT (-74.0770327198983 40.6447209438691)  Fri         RAPE  \n",
       "2  POINT (-74.0770327198983 40.6447209438691)  Tue         RAPE  \n",
       "3  POINT (-73.8740035373971 40.7434812638841)  Fri         RAPE  \n",
       "4  POINT (-73.9832253756043 40.6954388081238)  Wed         RAPE  \n",
       "\n",
       "[5 rows x 21 columns]"
      ]
     },
     "execution_count": 23,
     "metadata": {},
     "output_type": "execute_result"
    }
   ],
   "source": [
    "arrests.head()"
   ]
  },
  {
   "cell_type": "code",
   "execution_count": 24,
   "id": "2754dac5-4d31-4a1e-bfa6-0ff2289db596",
   "metadata": {
    "tags": []
   },
   "outputs": [],
   "source": [
    "# Mapping most of the offense types to smaller buckets\n",
    "\n",
    "offense_mapping = {\n",
    "    'ASSAULT 3 & RELATED OFFENSES': 'ASSAULT',\n",
    "    'FELONY ASSAULT': 'ASSAULT',\n",
    "    'MURDER & NON-NEGL. MANSLAUGHTE': 'ASSAULT',\n",
    "    'JOSTLING': 'ASSAULT',\n",
    "    'PETIT LARCENY': 'LARCENY',\n",
    "    'GRAND LARCENY': 'LARCENY',\n",
    "    'OTHER OFFENSES RELATED TO THEF': 'LARCENY',\n",
    "    'POSSESSION OF STOLEN PROPERTY': 'LARCENY',\n",
    "    'GRAND LARCENY OF MOTOR VEHICLE': 'LARCENY',\n",
    "    'THEFT-FRAUD': 'LARCENY',\n",
    "    'THEFT OF SERVICES': 'LARCENY',\n",
    "    'THEFT-FRAUD': 'LARCENY',\n",
    "    'CRIMINAL TRESPASS': 'BURGLARY',\n",
    "    'BURGLAR\\'S TOOLS': 'BURGLARY',\n",
    "    'DANGEROUS DRUGS': 'SUBSTANCES',\n",
    "    'CANNABIS RELATED OFFENSES': 'SUBSTANCES',\n",
    "    'ALCOHOLIC BEVERAGE CONTROL LAW': 'SUBSTANCES',\n",
    "    'INTOXICATED & IMPAIRED DRIVING': 'SUBSTANCES',\n",
    "    'INTOXICATED/IMPAIRED DRIVING': 'SUBSTANCES',\n",
    "    'VEHICLE AND TRAFFIC LAWS': 'MOTOR',\n",
    "    'PARKING OFFENSES': 'MOTOR',\n",
    "    'OTHER TRAFFIC INFRACTION': 'MOTOR',\n",
    "    'UNAUTHORIZED USE OF A VEHICLE': 'MOTOR',\n",
    "    'PROSTITUTION & RELATED OFFENSES': 'SEX CRIMES',\n",
    "    'FELONY SEX CRIMES': 'SEX CRIMES',\n",
    "    'RAPE': 'SEX CRIMES',\n",
    "    'HARRASSMENT 2': 'SEX CRIMES',\n",
    "    'HARRASSMENT 2': 'SEX CRIMES',\n",
    "    'OFFENSES INVOLVING FRAUD': 'FRAUD',\n",
    "    'FORGERY': 'FRAUD',\n",
    "    'FRAUDS': 'FRAUD',\n",
    "    'THEFT-FRAUD': 'FRAUD',\n",
    "    'FRAUDULENT ACCOSTING': 'FRAUD',\n",
    "    'DANGEROUS WEAPONS': 'ARMS',\n",
    "    'ARSON': 'ARMS',\n",
    "    'UNLAWFUL POSS. WEAP. ON SCHOOL': 'ARMS',\n",
    "    'KIDNAPPING & RELATED OFFENSES': 'KIDNAPPING'\n",
    "}"
   ]
  },
  {
   "cell_type": "code",
   "execution_count": 25,
   "id": "9e815775-0255-4c48-ab43-a51cb90b4da8",
   "metadata": {
    "tags": []
   },
   "outputs": [],
   "source": [
    "arrests['OFFENSE_TYPE'] = arrests['OFFENSE_TYPE'].replace(offense_mapping)\n"
   ]
  },
  {
   "cell_type": "code",
   "execution_count": 26,
   "id": "62bf7840-3e3d-40bc-a678-e56e60e72e7e",
   "metadata": {
    "tags": []
   },
   "outputs": [
    {
     "data": {
      "text/plain": [
       "ASSAULT                                 28083\n",
       "LARCENY                                 22562\n",
       "SUBSTANCES                               9290\n",
       "MOTOR                                    8077\n",
       "MISCELLANEOUS PENAL LAW                  7327\n",
       "CRIMINAL MISCHIEF & RELATED OF           5515\n",
       "ROBBERY                                  5368\n",
       "FRAUD                                    4907\n",
       "ARMS                                     4728\n",
       "BURGLARY                                 4517\n",
       "OFFENSES AGAINST PUBLIC ADMINI           3248\n",
       "SEX CRIMES                               3134\n",
       "OFF. AGNST PUB ORD SENSBLTY &            2034\n",
       "FOR OTHER AUTHORITIES                     846\n",
       "OFFENSES AGAINST THE PERSON               714\n",
       "NYS LAWS-UNCLASSIFIED FELONY              590\n",
       "(null)                                    466\n",
       "OTHER STATE LAWS                          406\n",
       "GAMBLING                                  195\n",
       "OTHER STATE LAWS (NON PENAL LA            175\n",
       "ADMINISTRATIVE CODE                        93\n",
       "KIDNAPPING                                 58\n",
       "OFFENSES AGAINST PUBLIC SAFETY             41\n",
       "ENDAN WELFARE INCOMP                       36\n",
       "AGRICULTURE & MRKTS LAW-UNCLASSIFIED       32\n",
       "HOMICIDE-NEGLIGENT,UNCLASSIFIE             24\n",
       "OFFENSES RELATED TO CHILDREN               23\n",
       "DISORDERLY CONDUCT                         22\n",
       "CHILD ABANDONMENT/NON SUPPORT              22\n",
       "MOVING INFRACTIONS                         14\n",
       "ANTICIPATORY OFFENSES                      11\n",
       "OTHER STATE LAWS (NON PENAL LAW)            6\n",
       "ESCAPE 3                                    4\n",
       "DISRUPTION OF A RELIGIOUS SERV              2\n",
       "ADMINISTRATIVE CODES                        1\n",
       "Name: OFFENSE_TYPE, dtype: int64"
      ]
     },
     "execution_count": 26,
     "metadata": {},
     "output_type": "execute_result"
    }
   ],
   "source": [
    "arrests['OFFENSE_TYPE'].value_counts()"
   ]
  },
  {
   "cell_type": "code",
   "execution_count": 27,
   "id": "35af6725-12b7-46ef-92eb-50be2be37133",
   "metadata": {
    "tags": []
   },
   "outputs": [
    {
     "data": {
      "text/plain": [
       "array(['ROBBERY', 'SEX CRIMES', 'ASSAULT', 'ARMS', '(null)', 'BURGLARY',\n",
       "       'LARCENY', 'CRIMINAL MISCHIEF & RELATED OF',\n",
       "       'OFF. AGNST PUB ORD SENSBLTY &', 'MOTOR',\n",
       "       'MISCELLANEOUS PENAL LAW', 'SUBSTANCES', 'FRAUD',\n",
       "       'OFFENSES AGAINST PUBLIC ADMINI', 'NYS LAWS-UNCLASSIFIED FELONY',\n",
       "       'OTHER STATE LAWS (NON PENAL LA', 'OFFENSES AGAINST THE PERSON',\n",
       "       'FOR OTHER AUTHORITIES', 'ENDAN WELFARE INCOMP',\n",
       "       'OFFENSES AGAINST PUBLIC SAFETY', 'ANTICIPATORY OFFENSES',\n",
       "       'OTHER STATE LAWS', 'ADMINISTRATIVE CODE', 'GAMBLING',\n",
       "       'AGRICULTURE & MRKTS LAW-UNCLASSIFIED',\n",
       "       'OFFENSES RELATED TO CHILDREN', 'DISORDERLY CONDUCT',\n",
       "       'HOMICIDE-NEGLIGENT,UNCLASSIFIE', 'KIDNAPPING', 'ESCAPE 3',\n",
       "       'ADMINISTRATIVE CODES', 'CHILD ABANDONMENT/NON SUPPORT',\n",
       "       'MOVING INFRACTIONS', 'OTHER STATE LAWS (NON PENAL LAW)',\n",
       "       'DISRUPTION OF A RELIGIOUS SERV'], dtype=object)"
      ]
     },
     "execution_count": 27,
     "metadata": {},
     "output_type": "execute_result"
    }
   ],
   "source": [
    "offenses = arrests['OFFENSE_TYPE'].unique()\n",
    "offenses"
   ]
  },
  {
   "cell_type": "code",
   "execution_count": 28,
   "id": "f3d3ebb1-edcc-4fb4-be3a-73d89b040356",
   "metadata": {
    "tags": []
   },
   "outputs": [
    {
     "data": {
      "text/plain": [
       "['ROBBERY',\n",
       " 'MISCELLANEOUS PENAL LAW',\n",
       " 'NYS LAWS-UNCLASSIFIED FELONY',\n",
       " 'HOMICIDE-NEGLIGENT,UNCLASSIFIE',\n",
       " 'KIDNAPPING',\n",
       " 'CHILD ABANDONMENT/NON SUPPORT']"
      ]
     },
     "execution_count": 28,
     "metadata": {},
     "output_type": "execute_result"
    }
   ],
   "source": [
    "# For further imputation, isolating only those offenses that were >80% felonies\n",
    "\n",
    "felonies = []\n",
    "\n",
    "for i in offenses:\n",
    "    if ((len(arrests[(arrests['OFFENSE_TYPE']==str(i)) & (arrests['LAW_CAT_CD']==str('F'))])) / (len(arrests[(arrests['OFFENSE_TYPE']==str(i))]))>0.8):\n",
    "        felonies.append(i)\n",
    "\n",
    "felonies"
   ]
  },
  {
   "cell_type": "code",
   "execution_count": 29,
   "id": "bd1ef6fb-8552-446d-9a83-483de7f872f1",
   "metadata": {
    "tags": []
   },
   "outputs": [
    {
     "data": {
      "text/plain": [
       "ASSAULT                                 28083\n",
       "LARCENY                                 22562\n",
       "SUBSTANCES                               9290\n",
       "MOTOR                                    8077\n",
       "OTHER FELONY                             7986\n",
       "CRIMINAL MISCHIEF & RELATED OF           5515\n",
       "ROBBERY                                  5368\n",
       "FRAUD                                    4907\n",
       "ARMS                                     4728\n",
       "BURGLARY                                 4517\n",
       "OFFENSES AGAINST PUBLIC ADMINI           3248\n",
       "SEX CRIMES                               3134\n",
       "OFF. AGNST PUB ORD SENSBLTY &            2034\n",
       "FOR OTHER AUTHORITIES                     846\n",
       "OFFENSES AGAINST THE PERSON               714\n",
       "(null)                                    466\n",
       "OTHER STATE LAWS                          406\n",
       "GAMBLING                                  195\n",
       "OTHER STATE LAWS (NON PENAL LA            175\n",
       "ADMINISTRATIVE CODE                        93\n",
       "KIDNAPPING                                 58\n",
       "OFFENSES AGAINST PUBLIC SAFETY             41\n",
       "ENDAN WELFARE INCOMP                       36\n",
       "AGRICULTURE & MRKTS LAW-UNCLASSIFIED       32\n",
       "DISORDERLY CONDUCT                         22\n",
       "MOVING INFRACTIONS                         14\n",
       "ANTICIPATORY OFFENSES                      11\n",
       "OTHER STATE LAWS (NON PENAL LAW)            6\n",
       "ESCAPE 3                                    4\n",
       "DISRUPTION OF A RELIGIOUS SERV              2\n",
       "ADMINISTRATIVE CODES                        1\n",
       "Name: OFFENSE_TYPE, dtype: int64"
      ]
     },
     "execution_count": 29,
     "metadata": {},
     "output_type": "execute_result"
    }
   ],
   "source": [
    "felony_mapping = {\n",
    "    'MISCELLANEOUS PENAL LAW': 'OTHER FELONY',\n",
    "    'NYS LAWS-UNCLASSIFIED FELONY': 'OTHER FELONY',\n",
    "    'HOMICIDE-NEGLIGENT,UNCLASSIFIE': 'OTHER FELONY',\n",
    "    'CHILD ABANDONMENT/NON SUPPORT': 'OTHER FELONY',\n",
    "    'OFFENSES RELATED TO CHILDREN': 'OTHER FELONY'}\n",
    "\n",
    "arrests['OFFENSE_TYPE'] = arrests['OFFENSE_TYPE'].replace(felony_mapping)\n",
    "arrests['OFFENSE_TYPE'].value_counts()"
   ]
  },
  {
   "cell_type": "code",
   "execution_count": 30,
   "id": "951ecb52-1beb-413e-86da-be07a4af354a",
   "metadata": {
    "tags": []
   },
   "outputs": [
    {
     "data": {
      "text/plain": [
       "['ROBBERY',\n",
       " 'SEX CRIMES',\n",
       " 'ASSAULT',\n",
       " 'ARMS',\n",
       " '(null)',\n",
       " 'BURGLARY',\n",
       " 'LARCENY',\n",
       " 'CRIMINAL MISCHIEF & RELATED OF',\n",
       " 'OFF. AGNST PUB ORD SENSBLTY &',\n",
       " 'MOTOR',\n",
       " 'SUBSTANCES',\n",
       " 'FRAUD',\n",
       " 'OFFENSES AGAINST PUBLIC ADMINI',\n",
       " 'OTHER STATE LAWS (NON PENAL LA',\n",
       " 'OFFENSES AGAINST THE PERSON',\n",
       " 'FOR OTHER AUTHORITIES',\n",
       " 'OTHER STATE LAWS',\n",
       " 'GAMBLING']"
      ]
     },
     "execution_count": 30,
     "metadata": {},
     "output_type": "execute_result"
    }
   ],
   "source": [
    "# For further imputation, isolating only those offenses that were >90% felonies\n",
    "\n",
    "other_large = []\n",
    "\n",
    "for i in offenses:\n",
    "    if len(arrests[(arrests['OFFENSE_TYPE']==str(i))])>100:\n",
    "        other_large.append(i)\n",
    "\n",
    "other_large"
   ]
  },
  {
   "cell_type": "code",
   "execution_count": 31,
   "id": "129ac2d7-6060-4f82-bc3c-e613a536ad56",
   "metadata": {
    "tags": []
   },
   "outputs": [
    {
     "data": {
      "text/plain": [
       "ASSAULT                                 28083\n",
       "LARCENY                                 22562\n",
       "OTHER LARGE                             13133\n",
       "SUBSTANCES                               9290\n",
       "MOTOR                                    8077\n",
       "OTHER FELONY                             7986\n",
       "ROBBERY                                  5368\n",
       "FRAUD                                    4907\n",
       "ARMS                                     4728\n",
       "BURGLARY                                 4517\n",
       "SEX CRIMES                               3134\n",
       "(null)                                    466\n",
       "ADMINISTRATIVE CODE                        93\n",
       "KIDNAPPING                                 58\n",
       "OFFENSES AGAINST PUBLIC SAFETY             41\n",
       "ENDAN WELFARE INCOMP                       36\n",
       "AGRICULTURE & MRKTS LAW-UNCLASSIFIED       32\n",
       "DISORDERLY CONDUCT                         22\n",
       "MOVING INFRACTIONS                         14\n",
       "ANTICIPATORY OFFENSES                      11\n",
       "OTHER STATE LAWS (NON PENAL LAW)            6\n",
       "ESCAPE 3                                    4\n",
       "DISRUPTION OF A RELIGIOUS SERV              2\n",
       "ADMINISTRATIVE CODES                        1\n",
       "Name: OFFENSE_TYPE, dtype: int64"
      ]
     },
     "execution_count": 31,
     "metadata": {},
     "output_type": "execute_result"
    }
   ],
   "source": [
    "other_large_mapping = {\n",
    "    'CRIMINAL MISCHIEF & RELATED OF': 'OTHER LARGE',\n",
    "    'OFF. AGNST PUB ORD SENSBLTY &': 'OTHER LARGE',\n",
    "    'OFFENSES AGAINST PUBLIC ADMINI': 'OTHER LARGE',\n",
    "    'OTHER STATE LAWS (NON PENAL LA': 'OTHER LARGE',\n",
    "    'OFFENSES AGAINST THE PERSON': 'OTHER LARGE',\n",
    "    'FOR OTHER AUTHORITIES': 'OTHER LARGE',\n",
    "    'OTHER STATE LAWS': 'OTHER LARGE',\n",
    "    'GAMBLING': 'OTHER LARGE'\n",
    "}\n",
    "\n",
    "arrests['OFFENSE_TYPE'] = arrests['OFFENSE_TYPE'].replace(other_large_mapping)\n",
    "arrests['OFFENSE_TYPE'].value_counts()"
   ]
  },
  {
   "cell_type": "code",
   "execution_count": 32,
   "id": "2e533711-19b0-4a17-9339-fbe0228b1747",
   "metadata": {
    "tags": []
   },
   "outputs": [],
   "source": [
    "# The remaindeer going in another bucket\n",
    "\n",
    "other_small_mapping = {\n",
    "    '(null)': 'OTHER SMALL',\n",
    "    'ADMINISTRATIVE CODE': 'OTHER SMALL',\n",
    "    'OFFENSES AGAINST PUBLIC SAFETY': 'OTHER SMALL',\n",
    "    'ENDAN WELFARE INCOMP': 'OTHER SMALL',\n",
    "    'AGRICULTURE & MRKTS LAW-UNCLASSIFIED': 'OTHER SMALL',\n",
    "    'DISORDERLY CONDUCT': 'OTHER SMALL',\n",
    "    'MOVING INFRACTIONS': 'OTHER SMALL',\n",
    "    'ANTICIPATORY OFFENSES': 'OTHER SMALL',\n",
    "    'OTHER STATE LAWS (NON PENAL LAW)': 'OTHER SMALL',\n",
    "    'ESCAPE 3': 'OTHER SMALL',\n",
    "    'DISRUPTION OF A RELIGIOUS SERV': 'OTHER SMALL',\n",
    "    'ADMINISTRATIVE CODES': 'OTHER SMALL',\n",
    "}\n",
    "\n",
    "arrests['OFFENSE_TYPE'] = arrests['OFFENSE_TYPE'].replace(other_small_mapping)\n"
   ]
  },
  {
   "cell_type": "code",
   "execution_count": 33,
   "id": "da598cec-8cf9-496c-acff-34a3296846e3",
   "metadata": {
    "tags": []
   },
   "outputs": [
    {
     "data": {
      "text/plain": [
       "<Axes: >"
      ]
     },
     "execution_count": 33,
     "metadata": {},
     "output_type": "execute_result"
    },
    {
     "data": {
      "image/png": "[encoded data removed]",
      "text/plain": [
       "<Figure size 640x480 with 1 Axes>"
      ]
     },
     "metadata": {},
     "output_type": "display_data"
    }
   ],
   "source": [
    "arrests['OFFENSE_TYPE'].value_counts().plot(kind=\"bar\")"
   ]
  },
  {
   "cell_type": "code",
   "execution_count": 34,
   "id": "16a7c97a-18f3-441e-bf8b-9c5d61b4b35c",
   "metadata": {
    "tags": []
   },
   "outputs": [
    {
     "data": {
      "text/plain": [
       "<Axes: ylabel='OFFENSE_TYPE'>"
      ]
     },
     "execution_count": 34,
     "metadata": {},
     "output_type": "execute_result"
    },
    {
     "data": {
      "image/png": "[encoded data removed]",
      "text/plain": [
       "<Figure size 640x480 with 1 Axes>"
      ]
     },
     "metadata": {},
     "output_type": "display_data"
    }
   ],
   "source": [
    "# Breakdown of age group by offense type\n",
    "\n",
    "arrests.groupby('OFFENSE_TYPE')['AGE_GROUP'].value_counts().unstack().plot(kind='barh', stacked=True)"
   ]
  },
  {
   "cell_type": "code",
   "execution_count": 35,
   "id": "09a570b3-c48c-49b2-814c-eb5294c204b2",
   "metadata": {},
   "outputs": [],
   "source": [
    "# Dropping race to remove as an indicator\n",
    "\n",
    "arrests = arrests.drop('PERP_RACE',axis=1)"
   ]
  },
  {
   "cell_type": "code",
   "execution_count": 36,
   "id": "7814359b-47d1-47e2-a35d-d61cbc0b277c",
   "metadata": {
    "tags": []
   },
   "outputs": [],
   "source": [
    "arrest_columns = arrests.columns.to_list()"
   ]
  },
  {
   "cell_type": "code",
   "execution_count": 37,
   "id": "675afc47-e882-4b09-8404-a8656afdc2f7",
   "metadata": {
    "tags": []
   },
   "outputs": [
    {
     "name": "stdout",
     "output_type": "stream",
     "text": [
      "ARREST_KEY: 112571\n",
      "ARREST_DATE: 181\n",
      "PD_CD: 244\n",
      "PD_DESC: 233\n",
      "KY_CD: 67\n",
      "OFNS_DESC: 63\n",
      "LAW_CODE: 923\n",
      "LAW_CAT_CD: 6\n",
      "ARREST_BORO: 5\n",
      "ARREST_PRECINCT: 77\n",
      "JURISDICTION_CODE: 22\n",
      "AGE_GROUP: 5\n",
      "PERP_SEX: 3\n",
      "X_COORD_CD: 22160\n",
      "Y_COORD_CD: 23202\n",
      "Latitude: 26457\n",
      "Longitude: 26469\n",
      "New Georeferenced Column: 26963\n",
      "DOW: 7\n",
      "OFFENSE_TYPE: 13\n"
     ]
    }
   ],
   "source": [
    "# Dertermining the unique values of several columns to see if its worth dummying\n",
    "\n",
    "for i in arrest_columns:\n",
    "    print(f\"{i}: {len(arrests[i].unique())}\")"
   ]
  },
  {
   "cell_type": "code",
   "execution_count": 38,
   "id": "926dd64b-53e6-4cf8-93db-55d276236ab3",
   "metadata": {},
   "outputs": [
    {
     "data": {
      "text/plain": [
       "(112571, 6)"
      ]
     },
     "execution_count": 38,
     "metadata": {},
     "output_type": "execute_result"
    }
   ],
   "source": [
    "# Dropping all unnecessary columns with greater than 15 unique values.\n",
    "\n",
    "arrests_clean = arrests.copy()\n",
    "\n",
    "for i in arrest_columns:\n",
    "    if len(arrests_clean[i].unique()) > 15:\n",
    "        del arrests_clean[i]\n",
    "\n",
    "arrests_clean.shape"
   ]
  },
  {
   "cell_type": "code",
   "execution_count": 39,
   "id": "e8d62201-d18d-4895-8d24-3bd2fd499036",
   "metadata": {
    "tags": []
   },
   "outputs": [
    {
     "data": {
      "text/plain": [
       "25"
      ]
     },
     "execution_count": 39,
     "metadata": {},
     "output_type": "execute_result"
    }
   ],
   "source": [
    "# Split into X and y and make X into dummies to prepare for model\n",
    "\n",
    "\n",
    "X = arrests_clean.drop('OFFENSE_TYPE', axis=1)\n",
    "y = arrests_clean['OFFENSE_TYPE']\n",
    "\n",
    "X = pd.get_dummies(X)\n",
    "\n",
    "len(X.columns)"
   ]
  },
  {
   "cell_type": "code",
   "execution_count": 40,
   "id": "9ad78157-7d36-4384-b9c5-05f7c8765f18",
   "metadata": {
    "tags": []
   },
   "outputs": [
    {
     "data": {
      "text/plain": [
       "<Axes: >"
      ]
     },
     "execution_count": 40,
     "metadata": {},
     "output_type": "execute_result"
    },
    {
     "data": {
      "image/png": "[encoded data removed]",
      "text/plain": [
       "<Figure size 2000x2000 with 2 Axes>"
      ]
     },
     "metadata": {},
     "output_type": "display_data"
    }
   ],
   "source": [
    "# Looking at collinearity\n",
    "\n",
    "corrDf = X.corr()\n",
    "mask = np.triu(corrDf)\n",
    "\n",
    "plt.figure(figsize=(20,20))\n",
    "sns.heatmap(corrDf.round(2), annot=True, mask=mask, cmap='coolwarm',vmin=-1,vmax=1)"
   ]
  },
  {
   "cell_type": "code",
   "execution_count": 43,
   "id": "5aaef14f-dff9-4dba-a920-4b194e94dd2b",
   "metadata": {
    "tags": []
   },
   "outputs": [
    {
     "name": "stdout",
     "output_type": "stream",
     "text": [
      "0.29723727458470284\n",
      "0.3001998667554963\n"
     ]
    },
    {
     "name": "stderr",
     "output_type": "stream",
     "text": [
      "/Users/abbascauser/anaconda3/lib/python3.11/site-packages/sklearn/linear_model/_logistic.py:460: ConvergenceWarning: lbfgs failed to converge (status=1):\n",
      "STOP: TOTAL NO. of ITERATIONS REACHED LIMIT.\n",
      "\n",
      "Increase the number of iterations (max_iter) or scale the data as shown in:\n",
      "    https://scikit-learn.org/stable/modules/preprocessing.html\n",
      "Please also refer to the documentation for alternative solver options:\n",
      "    https://scikit-learn.org/stable/modules/linear_model.html#logistic-regression\n",
      "  n_iter_i = _check_optimize_result(\n"
     ]
    }
   ],
   "source": [
    "# Running a regression model\n",
    "\n",
    "X_train, X_test, y_train, y_test = train_test_split(X, y, test_size=0.2, random_state=17)\n",
    "\n",
    "# 1. Instantiate model \n",
    "logistic_regression_model = LogisticRegression()\n",
    "\n",
    "# 2. Fit model on the training data\n",
    "logistic_regression_model.fit(X_train, y_train)\n",
    "\n",
    "# 3. Score on the training data \n",
    "print(logistic_regression_model.score(X_train, y_train))\n",
    "\n",
    "# 4. Score on the testing data\n",
    "print(logistic_regression_model.score(X_test, y_test))\n",
    "\n"
   ]
  },
  {
   "cell_type": "code",
   "execution_count": 44,
   "id": "ca1e4045-7e42-4998-a549-dc4d9f827c60",
   "metadata": {},
   "outputs": [
    {
     "name": "stdout",
     "output_type": "stream",
     "text": [
      "The TRAIN classification accuracy is:  0.2954494980900773\n",
      "The TEST classification accuracy is:  0.29460359760159893\n"
     ]
    }
   ],
   "source": [
    "# Now running a decision tree\n",
    "\n",
    "DT_model = DecisionTreeClassifier(max_depth = 6)\n",
    "DT_model.fit(X_train, y_train)\n",
    "\n",
    "print(f\"The TRAIN classification accuracy is:  {DT_model.score(X_train,y_train)}\")\n",
    "print(f\"The TEST classification accuracy is:  {DT_model.score(X_test,y_test)}\")"
   ]
  },
  {
   "cell_type": "code",
   "execution_count": 45,
   "id": "27da740e-cdb0-4e23-aedc-f53256fd562f",
   "metadata": {
    "tags": []
   },
   "outputs": [],
   "source": [
    "#Fit to the training data\n",
    "\n",
    "best_model = None\n",
    "best_test_acc = -np.inf\n",
    "depths = []\n",
    "test_scores = []\n",
    "train_scores = []\n",
    "\n",
    "for iterations in [1,2,3,4,5,6,7,8,9,None]:\n",
    "    DT_model = DecisionTreeClassifier(max_depth=iterations)\n",
    "    DT_model.fit(X_train, y_train)\n",
    "    test_acc = DT_model.score(X_test,y_test)\n",
    "    train_acc = DT_model.score(X_train,y_train)\n",
    "    \n",
    "    \n",
    "    if test_acc > best_test_acc:\n",
    "        best_model = DT_model,\n",
    "        best_test_acc = test_acc\n",
    "        \n",
    "    depths.append(iterations)\n",
    "    test_scores.append(test_acc)\n",
    "    train_scores.append(train_acc)\n",
    "                             "
   ]
  },
  {
   "cell_type": "code",
   "execution_count": 46,
   "id": "ab0a4c78-e13d-49e4-a611-aba36c34ce02",
   "metadata": {
    "tags": []
   },
   "outputs": [
    {
     "data": {
      "image/png": "[encoded data removed]",
      "text/plain": [
       "<Figure size 640x480 with 1 Axes>"
      ]
     },
     "metadata": {},
     "output_type": "display_data"
    }
   ],
   "source": [
    "plt.plot(depths, test_scores,  color='red',label=\"test set\")\n",
    "plt.plot(depths, train_scores,  color='blue',label=\"train set\")\n",
    "plt.ylabel('Score (closer to 1 is better)')\n",
    "plt.xlabel('Depths of Decision Tree')\n",
    "plt.legend()\n",
    "plt.grid()"
   ]
  }
 ],
 "metadata": {
  "kernelspec": {
   "display_name": "Python 3 (ipykernel)",
   "language": "python",
   "name": "python3"
  },
  "language_info": {
   "codemirror_mode": {
    "name": "ipython",
    "version": 3
   },
   "file_extension": ".py",
   "mimetype": "text/x-python",
   "name": "python",
   "nbconvert_exporter": "python",
   "pygments_lexer": "ipython3",
   "version": "3.11.4"
  }
 },
 "nbformat": 4,
 "nbformat_minor": 5
}
